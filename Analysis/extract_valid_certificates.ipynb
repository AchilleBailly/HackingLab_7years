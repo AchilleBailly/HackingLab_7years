{
 "cells": [
  {
   "cell_type": "code",
   "execution_count": 4,
   "id": "834b914f-de75-4c56-b88a-e65c5c449f4d",
   "metadata": {},
   "outputs": [],
   "source": [
    "import pandas\n",
    "import os\n",
    "import datetime\n",
    "import json\n",
    "import binascii\n",
    "import hashlib"
   ]
  },
  {
   "cell_type": "code",
   "execution_count": 5,
   "id": "5789eefb-247d-4194-a8c4-a5c03ddd18e8",
   "metadata": {},
   "outputs": [],
   "source": [
    "def find_active_scan_files(active_scan_path):\n",
    "    files_names = []\n",
    "    file_dirs = os.listdir(active_scan_path)\n",
    "    print(len(file_dirs))\n",
    "    for folder in file_dirs:\n",
    "        print(folder)\n",
    "        if 'b_' not in folder[:2]:\n",
    "            continue\n",
    "        files = os.listdir(active_scan_path + \"/\" + folder)\n",
    "        for filename in files:\n",
    "            if 'certs.txt' == filename:\n",
    "                filepath = active_scan_path + folder + \"/\" + filename\n",
    "                files_names.append(filepath)\n",
    "    return files_names\n",
    "\n",
    "\n",
    "def get_ccadb_hashes(filePath=\"../datasets/tls_scans/ccadb/cert_hashes_ccadb.txt\"):\n",
    "    ccadb_hashes = dict()\n",
    "    with open(filePath, 'rt') as f:\n",
    "        for line in f:\n",
    "            ccadb_hashes[line.rstrip()] = None\n",
    "    return ccadb_hashes\n",
    "\n",
    "\n",
    "def hash_cert(pem):\n",
    "    pem_to_hash = pem.replace('\\n','').replace('-----BEGIN CERTIFICATE-----','').replace('-----END CERTIFICATE-----','')\n",
    "    pem_to_hash += \"=\" * ((4 - len(pem_to_hash) % 4) % 4)\n",
    "    pem_decode = binascii.a2b_base64(pem_to_hash)\n",
    "    hash_object = hashlib.sha1(pem_decode)\n",
    "    return hash_object.hexdigest(), pem_to_hash\n",
    "\n",
    "\n",
    "def parse_date(value):\n",
    "    if 'T' in value:\n",
    "        return datetime.datetime.strptime(value.split('T')[0], '%Y-%m-%d').replace(tzinfo=datetime.timezone.utc).timestamp()\n",
    "    else:\n",
    "        return datetime.datetime.strptime(value.split(' ')[0], '%Y-%m-%d').replace(tzinfo=datetime.timezone.utc).timestamp()\n",
    "\n",
    "\n",
    "def is_expired(not_after, not_before, snapshot_date_timestamp):\n",
    "    week = 60*60*24*7\n",
    "    if snapshot_date_timestamp <= (not_after + week) and (not_before - week) <= snapshot_date_timestamp:\n",
    "        return False\n",
    "    else:\n",
    "        return True\n",
    "\n",
    "\n",
    "def validate_certificate(cert_list, ccadb_hashes, snapshot_timestamp):\n",
    "    # Check for root certifcate in ccadb\n",
    "    if 'pem' in cert_list[-1]:\n",
    "        certHashed, rawPem = hash_cert(cert_list[-1]['pem'])\n",
    "        if certHashed not in ccadb_hashes:\n",
    "            return None\n",
    "    \n",
    "    ee_cert = None\n",
    "    for cert in cert_list:\n",
    "        if 'not_before' in cert and 'not_after' in cert:\n",
    "            if is_expired(parse_date(cert['not_after']), parse_date(cert['not_before']), snapshot_timestamp):\n",
    "                return None\n",
    "\n",
    "        if 'basic_constraints' in cert:\n",
    "            if 'is_ca' in cert['basic_constraints']:\n",
    "                if cert['basic_constraints']['is_ca'] == False:\n",
    "                    if 'dns_names' in cert:\n",
    "                        if len(cert['dns_names']) > 0:\n",
    "                            if 'is_self_signed' in cert:\n",
    "                                if cert['is_self_signed'] == False:\n",
    "                                    ee_cert = cert\n",
    "    return ee_cert\n",
    "\n",
    "\n",
    "def active_scan_preprocessing(file_names, ccadb_hashes, snapshot_timestamp, result_path):\n",
    "    with open(result_path + \"ee_certs.txt\", 'wt') as write_file:\n",
    "        for i, file_name in enumerate(file_names):\n",
    "            print(f\"Processing file {i} out of {len(file_names)}:\\t {file_name}\")\n",
    "            with open(file_name, \"rt\") as current_file:\n",
    "                for line in current_file:\n",
    "                    try:\n",
    "                        data = json.loads(line.strip())\n",
    "                    except:\n",
    "                        continue\n",
    "                    \n",
    "                for ip in data:\n",
    "                    if \"certificates\" in data[ip]:\n",
    "                        ee_cert = validate_certificate(data[ip]['certificates'], ccadb_hashes, snapshot_timestamp)\n",
    "                        if ee_cert is not None:\n",
    "                            json_format = json.dumps({ip: ee_cert})\n",
    "                            write_file.write(f\"{json_format}\\n\")\n",
    "                    \n",
    "            \n",
    "            \n",
    "    "
   ]
  },
  {
   "cell_type": "code",
   "execution_count": 6,
   "id": "c835eafe-41a1-4ceb-903e-b45eb3b76728",
   "metadata": {
    "scrolled": true,
    "tags": []
   },
   "outputs": [
    {
     "name": "stdout",
     "output_type": "stream",
     "text": [
      "6\n",
      "b_994\n",
      "b_995\n",
      "b_996\n",
      "b_997\n",
      "b_998\n",
      "b_999\n",
      "Processing file 0 out of 6:\t ../Dataset-ignore/active_scan/b_994/certs.txt\n",
      "Processing file 1 out of 6:\t ../Dataset-ignore/active_scan/b_995/certs.txt\n",
      "Processing file 2 out of 6:\t ../Dataset-ignore/active_scan/b_996/certs.txt\n",
      "Processing file 3 out of 6:\t ../Dataset-ignore/active_scan/b_997/certs.txt\n",
      "Processing file 4 out of 6:\t ../Dataset-ignore/active_scan/b_998/certs.txt\n",
      "Processing file 5 out of 6:\t ../Dataset-ignore/active_scan/b_999/certs.txt\n"
     ]
    }
   ],
   "source": [
    "def main(datatype=\"active\"):\n",
    "    result_path = \"./results/\"\n",
    "    \n",
    "    ccadb_path = \"../datasets/tls_scans/ccadb/cert_hashes_ccadb.txt\"\n",
    "    ccadb_hashes = get_ccadb_hashes(ccadb_path)\n",
    "    \n",
    "    snapshot_timestamp  = datetime.datetime.strptime(\"5-10-2020\", '%d-%m-%Y').replace(tzinfo=datetime.timezone.utc).timestamp()\n",
    "\n",
    "    # ccadb SSL/TLS resources: https://www.ccadb.org/resources pem of root certificates\n",
    "    if datatype == \"active\":\n",
    "        active_path = \"../Dataset-ignore/active_scan/\"\n",
    "        files_names = find_active_scan_files(active_path)\n",
    "        active_scan_preprocessing(files_names, ccadb_hashes, snapshot_timestamp, result_path)\n",
    "    \n",
    "    \n",
    "main()"
   ]
  },
  {
   "cell_type": "code",
   "execution_count": 7,
   "id": "bc3761c2",
   "metadata": {},
   "outputs": [
    {
     "name": "stdout",
     "output_type": "stream",
     "text": [
      "6568\n"
     ]
    }
   ],
   "source": [
    "ccadb_path = \"../datasets/tls_scans/ccadb/cert_hashes_ccadb.txt\"\n",
    "\n",
    "counter = 0\n",
    "with open(ccadb_path, \"rt\") as file:\n",
    "    for line in file:\n",
    "        counter += 1\n",
    "print(counter)"
   ]
  }
 ],
 "metadata": {
  "kernelspec": {
   "display_name": "Python 3 (ipykernel)",
   "language": "python",
   "name": "python3"
  },
  "language_info": {
   "codemirror_mode": {
    "name": "ipython",
    "version": 3
   },
   "file_extension": ".py",
   "mimetype": "text/x-python",
   "name": "python",
   "nbconvert_exporter": "python",
   "pygments_lexer": "ipython3",
   "version": "3.8.10"
  }
 },
 "nbformat": 4,
 "nbformat_minor": 5
}
