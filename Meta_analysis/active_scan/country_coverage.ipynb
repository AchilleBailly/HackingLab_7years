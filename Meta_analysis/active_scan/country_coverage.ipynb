{
 "cells": [
  {
   "cell_type": "code",
   "execution_count": 2,
   "id": "e0f44c83-c655-48fb-8930-408d5baf12f4",
   "metadata": {},
   "outputs": [],
   "source": [
    "import os\n",
    "import json\n",
    "import argparse"
   ]
  },
  {
   "cell_type": "code",
   "execution_count": 3,
   "id": "8da2e5ce-6287-4ffa-b135-008f7a88d2ba",
   "metadata": {},
   "outputs": [
    {
     "ename": "FileNotFoundError",
     "evalue": "[Errno 2] No such file or directory: '/media/gerben/Seagate/Study/hacking_lab/HackingLab_7years/Analysis/results/candidate_off-nets_good/'",
     "output_type": "error",
     "traceback": [
      "\u001b[0;31m---------------------------------------------------------------------------\u001b[0m",
      "\u001b[0;31mFileNotFoundError\u001b[0m                         Traceback (most recent call last)",
      "\u001b[0;32m/tmp/ipykernel_165/2888187073.py\u001b[0m in \u001b[0;36m<module>\u001b[0;34m\u001b[0m\n\u001b[1;32m      3\u001b[0m \u001b[0;34m\u001b[0m\u001b[0m\n\u001b[1;32m      4\u001b[0m \u001b[0moffnets_folder\u001b[0m \u001b[0;34m=\u001b[0m \u001b[0;34m\"/media/gerben/Seagate/Study/hacking_lab/HackingLab_7years/Analysis/results/candidate_off-nets_good/\"\u001b[0m\u001b[0;34m\u001b[0m\u001b[0;34m\u001b[0m\u001b[0m\n\u001b[0;32m----> 5\u001b[0;31m \u001b[0moffnet_files\u001b[0m \u001b[0;34m=\u001b[0m \u001b[0mos\u001b[0m\u001b[0;34m.\u001b[0m\u001b[0mlistdir\u001b[0m\u001b[0;34m(\u001b[0m\u001b[0moffnets_folder\u001b[0m\u001b[0;34m)\u001b[0m\u001b[0;34m\u001b[0m\u001b[0;34m\u001b[0m\u001b[0m\n\u001b[0m\u001b[1;32m      6\u001b[0m \u001b[0;34m\u001b[0m\u001b[0m\n\u001b[1;32m      7\u001b[0m \u001b[0mapnic_file\u001b[0m \u001b[0;34m=\u001b[0m \u001b[0;34m\"/media/gerben/Seagate/Study/hacking_lab/HackingLab_7years/datasets/apnic_population/apnic_population_dataset.json\"\u001b[0m\u001b[0;34m\u001b[0m\u001b[0;34m\u001b[0m\u001b[0m\n",
      "\u001b[0;31mFileNotFoundError\u001b[0m: [Errno 2] No such file or directory: '/media/gerben/Seagate/Study/hacking_lab/HackingLab_7years/Analysis/results/candidate_off-nets_good/'"
     ]
    }
   ],
   "source": [
    "results_folder = \"../../Analysis/results/\"\n",
    "output_folder = results_folder + \"country_coverage/\" \n",
    "\n",
    "offnets_folder = \"../../Analysis/results/candidate_off-nets_good/\"\n",
    "offnet_files = os.listdir(offnets_folder)\n",
    "\n",
    "apnic_file = \"../../datasets/apnic_population/apnic_population_dataset.json\"\n",
    "\n",
    "countData = {}\n",
    "hg_keywords_l = []\n",
    "\n",
    "for file in offnet_files:\n",
    "    if '.txt' in file:\n",
    "        hg_keyword = file.split('.')[0]\n",
    "        hg_keywords_l.append(hg_keyword)\n",
    "\n",
    "        if hg_keyword not in countData:\n",
    "            countData[hg_keyword] = {}\n",
    "\n",
    "        with open(offnets_folder + file, 'rt') as f:\n",
    "            for line in f:\n",
    "                data = json.loads(line)\n",
    "                asn = str(data['ASN'])\n",
    "                countData[hg_keyword][str(asn)] = None\n",
    "\n",
    "with open(apnic_file, 'rt') as f:\n",
    "    apnic_data_json = json.load(f)\n",
    "    for hg_keyword in hg_keywords_l:\n",
    "        for asn_offnet in countData[hg_keyword]:\n",
    "            with open(output_folder + hg_keyword + \".txt\", 'wt') as fw:\n",
    "                for country in apnic_data_json:\n",
    "                    coverage_perc = 0.0\n",
    "                    for asn_country in apnic_data_json[country]:\n",
    "                        if str(asn_country) in countData[hg_keyword]:\n",
    "                            coverage_perc += apnic_data_json[country][asn_country]\n",
    "\n",
    "                    fw.write(f\"{country},{coverage_perc}\\n\")                    "
   ]
  }
 ],
 "metadata": {
  "kernelspec": {
   "display_name": "Python 3 (ipykernel)",
   "language": "python",
   "name": "python3"
  },
  "language_info": {
   "codemirror_mode": {
    "name": "ipython",
    "version": 3
   },
   "file_extension": ".py",
   "mimetype": "text/x-python",
   "name": "python",
   "nbconvert_exporter": "python",
   "pygments_lexer": "ipython3",
   "version": "3.8.10"
  }
 },
 "nbformat": 4,
 "nbformat_minor": 5
}
